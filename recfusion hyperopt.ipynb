{
 "cells": [
  {
   "cell_type": "markdown",
   "metadata": {
    "application/vnd.databricks.v1+cell": {
     "cellMetadata": {
      "byteLimit": 2048000,
      "rowLimit": 10000
     },
     "inputWidgets": {},
     "nuid": "f7ac4e2e-4b11-42ce-a1ff-a8f8ffa147b1",
     "showTitle": false,
     "title": ""
    }
   },
   "source": [
    "# RecpackFusion"
   ]
  },
  {
   "cell_type": "code",
   "execution_count": 0,
   "metadata": {
    "application/vnd.databricks.v1+cell": {
     "cellMetadata": {
      "byteLimit": 2048000,
      "rowLimit": 10000
     },
     "inputWidgets": {},
     "nuid": "c19a803a-1f0e-4b4f-a3cb-4eca41b75cd9",
     "showTitle": false,
     "title": ""
    }
   },
   "outputs": [],
   "source": [
    "!pip install wandb einops &> /dev/null\n",
    "!rm -r recpackfusion\n",
    "!git clone https://github.com/gabriben/recfusion.git\n",
    "!cd recfusion; pip install . &> /dev/null"
   ]
  },
  {
   "cell_type": "code",
   "execution_count": 0,
   "metadata": {
    "application/vnd.databricks.v1+cell": {
     "cellMetadata": {
      "byteLimit": 2048000,
      "rowLimit": 10000
     },
     "inputWidgets": {},
     "nuid": "b694f50b-50be-434c-916d-e81690d7b465",
     "showTitle": false,
     "title": ""
    }
   },
   "outputs": [],
   "source": [
    "from recpack.quick import quick_train\n",
    "\n",
    "\n",
    "model = 'RecFusionMLP'\n",
    "dataset = 'MovieLens1M'\n",
    "prep_hypers = {\n",
    "    'ds_path': '/dbfs/datasets/RecSys/',\n",
    "    'min_rating': 4,\n",
    "    'min_items_per_user': 5,\n",
    "    'min_users_per_item': 5,\n",
    "    'generalization': 'StrongGeneralization', # WeakGeneralization,\n",
    "    \"train_val_test\": [0.8, 0.1, 0.1],\n",
    "    'force_even_items': False\n",
    "}\n",
    "train_hypers = {\n",
    "    # \"max_epochs\":1,\n",
    "    \"stop_early\": True, \"max_iter_no_change\" : 10, \"min_improvement\": 0.001,\n",
    "    \"validation_sample_size\": 1000,\n",
    "    # \"dim_bottleneck_layer\" : 128,\n",
    "    # 'T': 2, \n",
    "    # 'p_dnns_depth': 5,\n",
    "    # \"T\": 100,\n",
    "    \"batch_size\" : 200,\n",
    "    # \"M\" : 200,\n",
    "    # \"p_dnns_depth\": 2,\n",
    "    # \"anneal_steps\" : 20    \n",
    "    # \"time_embedding_as_input\" : True  \n",
    "    #\"schedule_type\": 'fixed',\n",
    "    #'jascha_bin_process': True,\n",
    "    #'b_start' : 0.1,    \n",
    "}\n",
    "val_metric = {'NDCGK':100}    \n",
    "test_metrics = {\n",
    "    'NDCGK' : [10, 20, 50, 100],\n",
    "    'RecallK' : [10, 20, 50],\n",
    "    'HitK': [20, 50, 100],\n",
    "    'CalibratedRecallK': [10, 20, 50]\n",
    "} "
   ]
  },
  {
   "cell_type": "code",
   "execution_count": 0,
   "metadata": {
    "application/vnd.databricks.v1+cell": {
     "cellMetadata": {
      "byteLimit": 2048000,
      "rowLimit": 10000
     },
     "inputWidgets": {},
     "nuid": "b695fed8-4d19-4b1d-9577-97642bf96c7f",
     "showTitle": false,
     "title": ""
    }
   },
   "outputs": [],
   "source": [
    "from hyperopt import fmin, hp, tpe, atpe\n",
    "from hyperopt import SparkTrials, STATUS_OK"
   ]
  },
  {
   "cell_type": "code",
   "execution_count": 0,
   "metadata": {
    "application/vnd.databricks.v1+cell": {
     "cellMetadata": {
      "byteLimit": 2048000,
      "rowLimit": 10000
     },
     "inputWidgets": {},
     "nuid": "29e9fdf6-077a-485e-b512-88d0b716d2b6",
     "showTitle": false,
     "title": ""
    }
   },
   "outputs": [],
   "source": [
    "import os\n",
    "\n",
    "# First, set up the scikit-learn workflow, wrapped within a function.\n",
    "def minimize_hyperopt(params):\n",
    "  \"\"\"\n",
    "  This is our main training function which we pass to Hyperopt.\n",
    "  It takes in hyperparameter settings, fits a model based on those settings,\n",
    "  evaluates the model, and returns the loss.\n",
    "\n",
    "  :param params: map specifying the hyperparameter settings to test\n",
    "  :return: loss for the fitted model\n",
    "  \"\"\"\n",
    "\n",
    "  os.environ[\"WANDB_API_KEY\"] = \"\"\n",
    "  os.environ[\"WANDB_PROJECT\"] = \"\"\n",
    "  \n",
    "  train_hypers.update(params)\n",
    "  m, v = quick_train(model, dataset, prep_hypers, train_hypers, val_metric, test_metrics)\n",
    "  loss = v\n",
    "  \n",
    "  return {'loss': loss, 'status': STATUS_OK}\n"
   ]
  },
  {
   "cell_type": "code",
   "execution_count": 0,
   "metadata": {
    "application/vnd.databricks.v1+cell": {
     "cellMetadata": {
      "byteLimit": 2048000,
      "rowLimit": 10000
     },
     "inputWidgets": {},
     "nuid": "32778a7c-4938-4533-9ff4-71cbc052aea4",
     "showTitle": false,
     "title": ""
    }
   },
   "outputs": [],
   "source": [
    "# http://hyperopt.github.io/hyperopt/scaleout/spark/\n",
    "\n",
    "# Next, define a search space for Hyperopt.\n",
    "\n",
    "hypers = {\n",
    "  'T' : list(range(1,1000)),\n",
    "  'p_dnns_depth' : list(range(1,10)),\n",
    "  'batch_size' : list(range(100, 1050, 50)),\n",
    "  # 'time_embedding_as_input' : [False, True]\n",
    "}\n",
    "\n",
    "# see http://hyperopt.github.io/hyperopt/getting-started/search_spaces/\n",
    "search_space = {\n",
    "  \"T\": hp.choice('T', hypers['T']),\n",
    "  \"p_dnns_depth\": hp.choice('p_dnns_depth', hypers['p_dnns_depth']),\n",
    "  \"batch_size\": hp.choice('batch_size', hypers['batch_size']),\n",
    "  # \"time_embedding_as_input\" : hp.choice('time_embedding_as_input', hypers['time_embedding_as_input'])\n",
    "}\n",
    "\n",
    "# Select a search algorithm for Hyperopt to use.\n",
    "algo=tpe.suggest\n",
    "\n",
    "# We can distribute tuning across our Spark cluster\n",
    "# by calling `fmin` with a `SparkTrials` instance.\n",
    "spark_trials = SparkTrials() # parallelism=4\n",
    "best_hyperparameters = fmin(\n",
    "  fn=minimize_hyperopt,\n",
    "  space=search_space,\n",
    "  algo=algo,\n",
    "  trials=spark_trials,\n",
    "  max_evals=100)\n",
    "\n",
    "#hyperopt returns the index and not the value of the best hypers:\n",
    "\n",
    "for k, v in best_hyperparameters.items():\n",
    "  best_hyperparameters[k] = hypers[k][v]\n",
    "  \n",
    "# from hyperopt import space_eval\n",
    "# space_eval(search_space, best_hyperparameters)\n",
    "\n",
    "best_hyperparameters"
   ]
  },
  {
   "cell_type": "markdown",
   "metadata": {
    "application/vnd.databricks.v1+cell": {
     "cellMetadata": {
      "byteLimit": 2048000,
      "rowLimit": 10000
     },
     "inputWidgets": {},
     "nuid": "d7a98a70-42d8-4b25-b5e1-d0ec8273a8d0",
     "showTitle": false,
     "title": ""
    }
   },
   "source": [
    "# train with optimal hypers"
   ]
  },
  {
   "cell_type": "code",
   "execution_count": 0,
   "metadata": {
    "application/vnd.databricks.v1+cell": {
     "cellMetadata": {
      "byteLimit": 2048000,
      "rowLimit": 10000
     },
     "inputWidgets": {},
     "nuid": "915b9cb0-faf5-42c0-b132-adbc00e939df",
     "showTitle": false,
     "title": ""
    }
   },
   "outputs": [],
   "source": [
    "train_hypers |= best_hyperparameters | {\"stop_early\": True}\n",
    "m, v = quick_train(model, dataset, prep_hypers, train_hypers, val_metric, test_metrics)\n",
    "m"
   ]
  },
  {
   "cell_type": "code",
   "execution_count": 0,
   "metadata": {
    "application/vnd.databricks.v1+cell": {
     "cellMetadata": {
      "byteLimit": 2048000,
      "rowLimit": 10000
     },
     "inputWidgets": {},
     "nuid": "d25861be-e998-4126-871f-7cdb7578cd21",
     "showTitle": false,
     "title": ""
    }
   },
   "outputs": [],
   "source": [
    "train_hypers |= best_hyperparameters | {\"stop_early\": False}\n",
    "m, v = quick_train(model, dataset, prep_hypers, train_hypers, val_metric, test_metrics)\n",
    "m"
   ]
  }
 ],
 "metadata": {
  "application/vnd.databricks.v1+notebook": {
   "dashboards": [],
   "language": "python",
   "notebookMetadata": {
    "mostRecentlyExecutedCommandWithImplicitDF": {
     "commandId": -1,
     "dataframes": [
      "_sqldf"
     ]
    },
    "pythonIndentUnit": 2
   },
   "notebookName": "recfusion hyperopt clean",
   "widgets": {}
  }
 },
 "nbformat": 4,
 "nbformat_minor": 0
}
